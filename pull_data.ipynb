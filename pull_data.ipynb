{
 "cells": [
  {
   "cell_type": "code",
   "execution_count": 3,
   "metadata": {},
   "outputs": [],
   "source": [
    "import yfinance as yf\n",
    "from pandas_datareader import data as pdr\n",
    "from datetime import date, timedelta, datetime\n",
    "import pandas as pd\n",
    "import threading\n",
    "import bisect"
   ]
  },
  {
   "cell_type": "code",
   "execution_count": 4,
   "metadata": {},
   "outputs": [
    {
     "output_type": "stream",
     "name": "stdout",
     "text": [
      "2020-08-01 2020-10-31\n"
     ]
    }
   ],
   "source": [
    "today = date.today()\n",
    "day_delta=90\n",
    "\n",
    "#today = today - timedelta(day_delta)\n",
    "\n",
    "start = today - timedelta(day_delta)\n",
    "start= start.strftime(\"%Y-%m-%d\")\n",
    "\n",
    "end = today + timedelta(1)\n",
    "end = end.strftime(\"%Y-%m-%d\")\n",
    "print(start,end)"
   ]
  },
  {
   "cell_type": "code",
   "execution_count": 3,
   "metadata": {},
   "outputs": [],
   "source": [
    "    ticker='SE'\n",
    "    today = datetime.today()\n",
    "    days45 = today + timedelta(45)\n",
    "\n",
    "    optTicker = yf.Ticker(ticker)\n",
    "    last_price=optTicker.history().tail(1)['Close'].iloc[0]\n",
    "\n",
    "    date_list=optTicker.options\n",
    "    date_df = pd.to_datetime(date_list)\n",
    "    date_diffs = abs(days45 - date_df)\n",
    "    closest_date = date_list[date_diffs.argmin()]\n",
    "\n",
    "\n",
    "    opt = optTicker.option_chain(closest_date)\n",
    "\n",
    "    optCalls=opt[0]\n",
    "    optPuts=opt[1]\n",
    "\n",
    "    strikes=optPuts['strike'].tolist()\n",
    "    strikes.sort()\n",
    "    \n",
    "    index = bisect.bisect(strikes, last_price)\n",
    "    sellPut=strikes[index-1]\n",
    "    if sellPut-5 in strikes:\n",
    "        buyPut=sellPut-5\n",
    "    else:\n",
    "        index = bisect.bisect(strikes, sellPut-1.5)\n",
    "        buyPut=strikes[index-1]\n",
    "\n",
    "    sellDF=optPuts[optPuts['strike']==sellPut]\n",
    "    buyDF=optPuts[optPuts['strike']==buyPut]\n",
    "\n",
    "    width=sellDF.strike.iloc[0]-buyDF.strike.iloc[0]\n",
    "    premium=sellDF.bid.iloc[0]-buyDF.ask.iloc[0]\n",
    "    if premium<0:\n",
    "        premium=(sellDF.bid.iloc[0]+sellDF.ask.iloc[0])/2-(buyDF.bid.iloc[0]+buyDF.ask.iloc[0])/2\n",
    "    if premium>width:\n",
    "        premium=0\n",
    "        IV=0\n",
    "    else:\n",
    "        IV=sellDF.impliedVolatility.iloc[0]\n",
    "#     index = bisect.bisect(strikes, last_price)\n",
    "#     sellPut=strikes[index-1]\n",
    "#     if sellPut-5 in strikes:\n",
    "#         buyPut=sellPut-5\n",
    "#     else:\n",
    "#         index = bisect.bisect(strikes, sellPut-1.5)\n",
    "#         buyPut=strikes[index-1]\n",
    "\n",
    "#     sellDF=optPuts[optPuts['strike']==sellPut]\n",
    "#     buyDF=optPuts[optPuts['strike']==buyPut]\n",
    "\n",
    "#     width=sellDF.strike.iloc[0]-buyDF.strike.iloc[0]\n",
    "#     premium=sellDF.bid.iloc[0]-buyDF.ask.iloc[0]\n",
    "#     IV=sellDF.impliedVolatility.iloc[0]\n",
    "    #print(sellPut,buyPut)\n",
    "    #optPuts.head()\n",
    "    #print([width,premium,IV])\n",
    "    #optPuts[(optPuts['strike'] ==67.5) | (optPuts['strike']==62.5) ].head()\n",
    "    #optPuts.head()"
   ]
  },
  {
   "cell_type": "code",
   "execution_count": 5,
   "metadata": {},
   "outputs": [
    {
     "output_type": "execute_result",
     "data": {
      "text/plain": [
       "                  Open        High         Low       Close    Volume  \\\n",
       "Date                                                                   \n",
       "2020-09-30  207.729996  211.979996  206.539993  210.330002  33780700   \n",
       "2020-10-01  213.490005  213.990005  211.320007  212.460007  27158400   \n",
       "2020-10-02  208.000000  210.990005  205.539993  206.190002  33154800   \n",
       "2020-10-05  207.220001  210.410004  206.979996  210.380005  21331600   \n",
       "2020-10-06  208.820007  210.179993  204.820007  205.910004  28554300   \n",
       "2020-10-07  207.059998  210.110001  206.720001  209.830002  25681100   \n",
       "2020-10-08  210.509995  211.190002  208.320007  210.580002  19925800   \n",
       "2020-10-09  211.229996  215.860001  211.229996  215.809998  26458000   \n",
       "2020-10-12  218.789993  223.860001  216.809998  221.399994  40461400   \n",
       "2020-10-13  222.720001  225.210007  220.429993  222.860001  28950800   \n",
       "2020-10-14  223.000000  224.220001  219.130005  220.860001  23451700   \n",
       "2020-10-15  217.100006  220.360001  216.009995  219.660004  22733100   \n",
       "2020-10-16  220.149994  222.289993  219.320007  219.660004  26057900   \n",
       "2020-10-19  220.419998  222.300003  213.720001  214.220001  27625800   \n",
       "2020-10-20  215.800003  217.369995  213.089996  214.649994  22753500   \n",
       "2020-10-21  213.119995  216.919998  213.119995  214.800003  22724900   \n",
       "2020-10-22  213.929993  216.059998  211.699997  214.889999  22351500   \n",
       "2020-10-23  215.029999  216.279999  213.160004  216.229996  18879600   \n",
       "2020-10-26  213.850006  216.339996  208.100006  210.080002  37111600   \n",
       "2020-10-27  211.589996  214.669998  210.330002  213.250000  36700300   \n",
       "2020-10-28  207.669998  208.839996  202.100006  202.679993  51195600   \n",
       "2020-10-29  204.070007  207.360001  203.369995  204.720001  31335800   \n",
       "2020-10-30  203.500000  204.289993  199.630005  202.470001  35353259   \n",
       "\n",
       "            Dividends  Stock Splits  \n",
       "Date                                 \n",
       "2020-09-30          0             0  \n",
       "2020-10-01          0             0  \n",
       "2020-10-02          0             0  \n",
       "2020-10-05          0             0  \n",
       "2020-10-06          0             0  \n",
       "2020-10-07          0             0  \n",
       "2020-10-08          0             0  \n",
       "2020-10-09          0             0  \n",
       "2020-10-12          0             0  \n",
       "2020-10-13          0             0  \n",
       "2020-10-14          0             0  \n",
       "2020-10-15          0             0  \n",
       "2020-10-16          0             0  \n",
       "2020-10-19          0             0  \n",
       "2020-10-20          0             0  \n",
       "2020-10-21          0             0  \n",
       "2020-10-22          0             0  \n",
       "2020-10-23          0             0  \n",
       "2020-10-26          0             0  \n",
       "2020-10-27          0             0  \n",
       "2020-10-28          0             0  \n",
       "2020-10-29          0             0  \n",
       "2020-10-30          0             0  "
      ],
      "text/html": "<div>\n<style scoped>\n    .dataframe tbody tr th:only-of-type {\n        vertical-align: middle;\n    }\n\n    .dataframe tbody tr th {\n        vertical-align: top;\n    }\n\n    .dataframe thead th {\n        text-align: right;\n    }\n</style>\n<table border=\"1\" class=\"dataframe\">\n  <thead>\n    <tr style=\"text-align: right;\">\n      <th></th>\n      <th>Open</th>\n      <th>High</th>\n      <th>Low</th>\n      <th>Close</th>\n      <th>Volume</th>\n      <th>Dividends</th>\n      <th>Stock Splits</th>\n    </tr>\n    <tr>\n      <th>Date</th>\n      <th></th>\n      <th></th>\n      <th></th>\n      <th></th>\n      <th></th>\n      <th></th>\n      <th></th>\n    </tr>\n  </thead>\n  <tbody>\n    <tr>\n      <th>2020-09-30</th>\n      <td>207.729996</td>\n      <td>211.979996</td>\n      <td>206.539993</td>\n      <td>210.330002</td>\n      <td>33780700</td>\n      <td>0</td>\n      <td>0</td>\n    </tr>\n    <tr>\n      <th>2020-10-01</th>\n      <td>213.490005</td>\n      <td>213.990005</td>\n      <td>211.320007</td>\n      <td>212.460007</td>\n      <td>27158400</td>\n      <td>0</td>\n      <td>0</td>\n    </tr>\n    <tr>\n      <th>2020-10-02</th>\n      <td>208.000000</td>\n      <td>210.990005</td>\n      <td>205.539993</td>\n      <td>206.190002</td>\n      <td>33154800</td>\n      <td>0</td>\n      <td>0</td>\n    </tr>\n    <tr>\n      <th>2020-10-05</th>\n      <td>207.220001</td>\n      <td>210.410004</td>\n      <td>206.979996</td>\n      <td>210.380005</td>\n      <td>21331600</td>\n      <td>0</td>\n      <td>0</td>\n    </tr>\n    <tr>\n      <th>2020-10-06</th>\n      <td>208.820007</td>\n      <td>210.179993</td>\n      <td>204.820007</td>\n      <td>205.910004</td>\n      <td>28554300</td>\n      <td>0</td>\n      <td>0</td>\n    </tr>\n    <tr>\n      <th>2020-10-07</th>\n      <td>207.059998</td>\n      <td>210.110001</td>\n      <td>206.720001</td>\n      <td>209.830002</td>\n      <td>25681100</td>\n      <td>0</td>\n      <td>0</td>\n    </tr>\n    <tr>\n      <th>2020-10-08</th>\n      <td>210.509995</td>\n      <td>211.190002</td>\n      <td>208.320007</td>\n      <td>210.580002</td>\n      <td>19925800</td>\n      <td>0</td>\n      <td>0</td>\n    </tr>\n    <tr>\n      <th>2020-10-09</th>\n      <td>211.229996</td>\n      <td>215.860001</td>\n      <td>211.229996</td>\n      <td>215.809998</td>\n      <td>26458000</td>\n      <td>0</td>\n      <td>0</td>\n    </tr>\n    <tr>\n      <th>2020-10-12</th>\n      <td>218.789993</td>\n      <td>223.860001</td>\n      <td>216.809998</td>\n      <td>221.399994</td>\n      <td>40461400</td>\n      <td>0</td>\n      <td>0</td>\n    </tr>\n    <tr>\n      <th>2020-10-13</th>\n      <td>222.720001</td>\n      <td>225.210007</td>\n      <td>220.429993</td>\n      <td>222.860001</td>\n      <td>28950800</td>\n      <td>0</td>\n      <td>0</td>\n    </tr>\n    <tr>\n      <th>2020-10-14</th>\n      <td>223.000000</td>\n      <td>224.220001</td>\n      <td>219.130005</td>\n      <td>220.860001</td>\n      <td>23451700</td>\n      <td>0</td>\n      <td>0</td>\n    </tr>\n    <tr>\n      <th>2020-10-15</th>\n      <td>217.100006</td>\n      <td>220.360001</td>\n      <td>216.009995</td>\n      <td>219.660004</td>\n      <td>22733100</td>\n      <td>0</td>\n      <td>0</td>\n    </tr>\n    <tr>\n      <th>2020-10-16</th>\n      <td>220.149994</td>\n      <td>222.289993</td>\n      <td>219.320007</td>\n      <td>219.660004</td>\n      <td>26057900</td>\n      <td>0</td>\n      <td>0</td>\n    </tr>\n    <tr>\n      <th>2020-10-19</th>\n      <td>220.419998</td>\n      <td>222.300003</td>\n      <td>213.720001</td>\n      <td>214.220001</td>\n      <td>27625800</td>\n      <td>0</td>\n      <td>0</td>\n    </tr>\n    <tr>\n      <th>2020-10-20</th>\n      <td>215.800003</td>\n      <td>217.369995</td>\n      <td>213.089996</td>\n      <td>214.649994</td>\n      <td>22753500</td>\n      <td>0</td>\n      <td>0</td>\n    </tr>\n    <tr>\n      <th>2020-10-21</th>\n      <td>213.119995</td>\n      <td>216.919998</td>\n      <td>213.119995</td>\n      <td>214.800003</td>\n      <td>22724900</td>\n      <td>0</td>\n      <td>0</td>\n    </tr>\n    <tr>\n      <th>2020-10-22</th>\n      <td>213.929993</td>\n      <td>216.059998</td>\n      <td>211.699997</td>\n      <td>214.889999</td>\n      <td>22351500</td>\n      <td>0</td>\n      <td>0</td>\n    </tr>\n    <tr>\n      <th>2020-10-23</th>\n      <td>215.029999</td>\n      <td>216.279999</td>\n      <td>213.160004</td>\n      <td>216.229996</td>\n      <td>18879600</td>\n      <td>0</td>\n      <td>0</td>\n    </tr>\n    <tr>\n      <th>2020-10-26</th>\n      <td>213.850006</td>\n      <td>216.339996</td>\n      <td>208.100006</td>\n      <td>210.080002</td>\n      <td>37111600</td>\n      <td>0</td>\n      <td>0</td>\n    </tr>\n    <tr>\n      <th>2020-10-27</th>\n      <td>211.589996</td>\n      <td>214.669998</td>\n      <td>210.330002</td>\n      <td>213.250000</td>\n      <td>36700300</td>\n      <td>0</td>\n      <td>0</td>\n    </tr>\n    <tr>\n      <th>2020-10-28</th>\n      <td>207.669998</td>\n      <td>208.839996</td>\n      <td>202.100006</td>\n      <td>202.679993</td>\n      <td>51195600</td>\n      <td>0</td>\n      <td>0</td>\n    </tr>\n    <tr>\n      <th>2020-10-29</th>\n      <td>204.070007</td>\n      <td>207.360001</td>\n      <td>203.369995</td>\n      <td>204.720001</td>\n      <td>31335800</td>\n      <td>0</td>\n      <td>0</td>\n    </tr>\n    <tr>\n      <th>2020-10-30</th>\n      <td>203.500000</td>\n      <td>204.289993</td>\n      <td>199.630005</td>\n      <td>202.470001</td>\n      <td>35353259</td>\n      <td>0</td>\n      <td>0</td>\n    </tr>\n  </tbody>\n</table>\n</div>"
     },
     "metadata": {},
     "execution_count": 5
    }
   ],
   "source": [
    "ticker='MSFT'\n",
    "ahTicker = yf.Ticker(ticker)\n",
    "ahTicker.history()"
   ]
  },
  {
   "cell_type": "code",
   "execution_count": 5,
   "metadata": {},
   "outputs": [],
   "source": [
    "def getPutSpread(last_price,ticker):\n",
    "    today = datetime.today()\n",
    "    days45 = today + timedelta(45)\n",
    "\n",
    "    optTicker = yf.Ticker(ticker)\n",
    "    #last_price=optTicker.history().tail(1)['Close'].iloc[0]\n",
    "\n",
    "    date_list=optTicker.options\n",
    "    date_df = pd.to_datetime(date_list)\n",
    "    date_diffs = abs(days45 - date_df)\n",
    "    closest_date = date_list[date_diffs.argmin()]\n",
    "\n",
    "\n",
    "    opt = optTicker.option_chain(closest_date)\n",
    "\n",
    "    optCalls=opt[0]\n",
    "    optPuts=opt[1]\n",
    "\n",
    "    strikes=optPuts['strike'].tolist()\n",
    "    strikes.sort()\n",
    "\n",
    "    index = bisect.bisect(strikes, last_price)\n",
    "    sellPut=strikes[index-1]\n",
    "    if sellPut-5 in strikes:\n",
    "        buyPut=sellPut-5\n",
    "    else:\n",
    "        index = bisect.bisect(strikes, sellPut-1.5)\n",
    "        buyPut=strikes[index-1]\n",
    "\n",
    "    sellDF=optPuts[optPuts['strike']==sellPut]\n",
    "    buyDF=optPuts[optPuts['strike']==buyPut]\n",
    "\n",
    "    width=sellDF.strike.iloc[0]-buyDF.strike.iloc[0]\n",
    "    premium=sellDF.bid.iloc[0]-buyDF.ask.iloc[0]\n",
    "    if premium<0:\n",
    "        premium=(sellDF.bid.iloc[0]+sellDF.ask.iloc[0])/2-(buyDF.bid.iloc[0]+buyDF.ask.iloc[0])/2\n",
    "    if premium>width:\n",
    "        premium=0\n",
    "        IV=0\n",
    "    else:\n",
    "        IV=sellDF.impliedVolatility.iloc[0]\n",
    "    outputArr=[width,premium,IV]\n",
    "    return outputArr\n",
    "    #print(optPuts.columns)\n",
    "    #print (width,premium,IV)\n",
    "\n",
    "\n"
   ]
  },
  {
   "cell_type": "code",
   "execution_count": 6,
   "metadata": {},
   "outputs": [],
   "source": [
    "def stok_data_pull():\n",
    "        dfOutput=pd.DataFrame()\n",
    "\n",
    "        tickers=['MA','ADBE','TSLA','LYFT','PANW','ESTC','SPG','FB','JMIA','TWLO','LULU','LMND','SAGE','ETSY','LRCX','NET','WORK','NFLX','MTB','DKNG','EQIX','EB','PSTH','ARKK','IPOB','TJX','QDEL','DOW','DOCU','CVS','PENN','MGM','MSFT','AMZN','GOOGL','WBA','GDDY','F','BA','GPS','VIAC','MDP','HUYA','ICLN','MJ','PTON','WING','OTRK','FSLY','MELI','SE','CSCO','NNOX','ASAN','AVGO','QCOM','WFC','TEAM','ISRG','DPZ','PZZA','ROKU','COF','TDOC','CPRI','GRWG','CRM','TLRY','GLD','SLV','RKT','MDB','TEAM','RDFN','UPS','SQ','LOGI','AMWL','FVRR','TLRY','CRWD','TTD','DDOG','PLAY','U','AMT','MTCH','SDGR','RHP','JPM','SPCE','TTWO','DXCM']\n",
    "\n",
    "        for t in tickers:\n",
    "            df = yf.download(t.replace('.', '-').replace('^', '-'), \n",
    "                                  start=start, \n",
    "                                  end=end,\n",
    "                                  prepost=True,\n",
    "                                  progress=False)\n",
    "\n",
    "            df['Stock']=t\n",
    "            dfTemp=df.reset_index()\n",
    "            last_price=dfTemp[dfTemp['Date']==dfTemp['Date'].max()].Close.iloc[0]\n",
    "            try:\n",
    "                putSpread=getPutSpread(last_price,t)\n",
    "            except:\n",
    "                putSpread=[0,0,0]\n",
    "            df['putWidth']=putSpread[0]\n",
    "            df['putPremium']=putSpread[1]\n",
    "            df['putIV']=putSpread[2]\n",
    "            try:\n",
    "                dfOutput=pd.concat([dfOutput, df])\n",
    "            except:\n",
    "                print('error '+t)\n",
    "\n",
    "        #dfOutput.head(100)\n",
    "        dfOutput['dt']=''\n",
    "        dfOutput['dt'].iloc[0] = datetime.now().strftime(\"%Y-%m-%d %H:%M:%S\")\n",
    "        dfOutput.to_csv('data.csv')\n",
    "        return \"done\""
   ]
  },
  {
   "cell_type": "code",
   "execution_count": 7,
   "metadata": {},
   "outputs": [
    {
     "output_type": "execute_result",
     "data": {
      "text/plain": [
       "'done'"
      ]
     },
     "metadata": {},
     "execution_count": 7
    }
   ],
   "source": [
    "#one time\n",
    "\n",
    "stok_data_pull()"
   ]
  },
  {
   "cell_type": "code",
   "execution_count": 8,
   "metadata": {},
   "outputs": [],
   "source": [
    "def get_stock_data():\n",
    "    threading.Timer(300.0, get_stock_data).start() # called every 5 minute\n",
    "    try:\n",
    "        stok_data_pull()\n",
    "    except:\n",
    "        pass\n",
    "\n",
    "get_stock_data()"
   ]
  },
  {
   "cell_type": "code",
   "execution_count": null,
   "metadata": {},
   "outputs": [],
   "source": []
  }
 ],
 "metadata": {
  "kernelspec": {
   "name": "Python 3.9.0 64-bit",
   "display_name": "Python 3.9.0 64-bit",
   "metadata": {
    "interpreter": {
     "hash": "9ea47d34a2ee788e115ae71263644fda9d02a2f77d7aa0702384b98b3aae77d1"
    }
   }
  },
  "language_info": {
   "codemirror_mode": {
    "name": "ipython",
    "version": 3
   },
   "file_extension": ".py",
   "mimetype": "text/x-python",
   "name": "python",
   "nbconvert_exporter": "python",
   "pygments_lexer": "ipython3",
   "version": "3.9.0-final"
  }
 },
 "nbformat": 4,
 "nbformat_minor": 4
}