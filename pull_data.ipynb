{
 "cells": [
  {
   "cell_type": "code",
   "execution_count": 4,
   "metadata": {},
   "outputs": [],
   "source": [
    "import yfinance as yf\n",
    "from pandas_datareader import data as pdr\n",
    "from datetime import date, timedelta, datetime\n",
    "import pandas as pd\n",
    "import threading\n",
    "import bisect"
   ]
  },
  {
   "cell_type": "code",
   "execution_count": 5,
   "metadata": {},
   "outputs": [],
   "source": [
    "dfStocks=pd.read_csv('tickers.csv')  \n",
    "tickers=dfStocks.ticker.tolist()"
   ]
  },
  {
   "cell_type": "code",
   "execution_count": 6,
   "metadata": {},
   "outputs": [],
   "source": [
    "today = date.today()\n",
    "day_delta=90\n",
    "\n",
    "#today = today - timedelta(day_delta)\n",
    "\n",
    "start = today - timedelta(day_delta)\n",
    "start= start.strftime(\"%Y-%m-%d\")\n",
    "\n",
    "end = today + timedelta(1)\n",
    "end = end.strftime(\"%Y-%m-%d\")\n"
   ]
  },
  {
   "cell_type": "code",
   "execution_count": 7,
   "metadata": {},
   "outputs": [],
   "source": [
    "#     ticker='SE'\n",
    "#     today = datetime.today()\n",
    "#     days45 = today + timedelta(45)\n",
    "\n",
    "#     optTicker = yf.Ticker(ticker)\n",
    "#     last_price=optTicker.history().tail(1)['Close'].iloc[0]\n",
    "\n",
    "#     date_list=optTicker.options\n",
    "#     date_df = pd.to_datetime(date_list)\n",
    "#     date_diffs = abs(days45 - date_df)\n",
    "#     closest_date = date_list[date_diffs.argmin()]\n",
    "\n",
    "\n",
    "#     opt = optTicker.option_chain(closest_date)\n",
    "\n",
    "#     optCalls=opt[0]\n",
    "#     optPuts=opt[1]\n",
    "\n",
    "#     strikes=optPuts['strike'].tolist()\n",
    "#     strikes.sort()\n",
    "    \n",
    "#     index = bisect.bisect(strikes, last_price)\n",
    "#     sellPut=strikes[index-1]\n",
    "#     if sellPut-5 in strikes:\n",
    "#         buyPut=sellPut-5\n",
    "#     else:\n",
    "#         index = bisect.bisect(strikes, sellPut-1.5)\n",
    "#         buyPut=strikes[index-1]\n",
    "\n",
    "#     sellDF=optPuts[optPuts['strike']==sellPut]\n",
    "#     buyDF=optPuts[optPuts['strike']==buyPut]\n",
    "\n",
    "#     width=sellDF.strike.iloc[0]-buyDF.strike.iloc[0]\n",
    "#     premium=sellDF.bid.iloc[0]-buyDF.ask.iloc[0]\n",
    "#     if premium<0:\n",
    "#         premium=(sellDF.bid.iloc[0]+sellDF.ask.iloc[0])/2-(buyDF.bid.iloc[0]+buyDF.ask.iloc[0])/2\n",
    "#     if premium>width:\n",
    "#         premium=0\n",
    "#         IV=0\n",
    "#     else:\n",
    "#         IV=sellDF.impliedVolatility.iloc[0]\n",
    "# #     index = bisect.bisect(strikes, last_price)\n",
    "# #     sellPut=strikes[index-1]\n",
    "# #     if sellPut-5 in strikes:\n",
    "# #         buyPut=sellPut-5\n",
    "# #     else:\n",
    "# #         index = bisect.bisect(strikes, sellPut-1.5)\n",
    "# #         buyPut=strikes[index-1]\n",
    "\n",
    "# #     sellDF=optPuts[optPuts['strike']==sellPut]\n",
    "# #     buyDF=optPuts[optPuts['strike']==buyPut]\n",
    "\n",
    "# #     width=sellDF.strike.iloc[0]-buyDF.strike.iloc[0]\n",
    "# #     premium=sellDF.bid.iloc[0]-buyDF.ask.iloc[0]\n",
    "# #     IV=sellDF.impliedVolatility.iloc[0]\n",
    "#     #print(sellPut,buyPut)\n",
    "#     #optPuts.head()\n",
    "#     #print([width,premium,IV])\n",
    "#     #optPuts[(optPuts['strike'] ==67.5) | (optPuts['strike']==62.5) ].head()\n",
    "#     #optPuts.head()"
   ]
  },
  {
   "cell_type": "code",
   "execution_count": 8,
   "metadata": {},
   "outputs": [],
   "source": [
    "# ticker='MSFT'\n",
    "# ahTicker = yf.Ticker(ticker)\n",
    "# ahTicker.history()"
   ]
  },
  {
   "cell_type": "code",
   "execution_count": 9,
   "metadata": {},
   "outputs": [],
   "source": [
    "def getPutSpread(last_price,ticker):\n",
    "    today = datetime.today()\n",
    "    days45 = today + timedelta(45)\n",
    "\n",
    "    optTicker = yf.Ticker(ticker)\n",
    "    #last_price=optTicker.history().tail(1)['Close'].iloc[0]\n",
    "\n",
    "    date_list=optTicker.options\n",
    "    date_df = pd.to_datetime(date_list)\n",
    "    date_diffs = abs(days45 - date_df)\n",
    "    closest_date = date_list[date_diffs.argmin()]\n",
    "\n",
    "\n",
    "    opt = optTicker.option_chain(closest_date)\n",
    "\n",
    "    optCalls=opt[0]\n",
    "    optPuts=opt[1]\n",
    "\n",
    "    strikes=optPuts['strike'].tolist()\n",
    "    strikes.sort()\n",
    "\n",
    "    index = bisect.bisect(strikes, last_price)\n",
    "    sellPut=strikes[index-1]\n",
    "    if sellPut-5 in strikes:\n",
    "        buyPut=sellPut-5\n",
    "    else:\n",
    "        index = bisect.bisect(strikes, sellPut-1.5)\n",
    "        buyPut=strikes[index-1]\n",
    "\n",
    "    sellDF=optPuts[optPuts['strike']==sellPut]\n",
    "    buyDF=optPuts[optPuts['strike']==buyPut]\n",
    "\n",
    "    width=sellDF.strike.iloc[0]-buyDF.strike.iloc[0]\n",
    "    premium=sellDF.bid.iloc[0]-buyDF.ask.iloc[0]\n",
    "    if premium<0:\n",
    "        premium=(sellDF.bid.iloc[0]+sellDF.ask.iloc[0])/2-(buyDF.bid.iloc[0]+buyDF.ask.iloc[0])/2\n",
    "    if premium>width:\n",
    "        premium=0\n",
    "        IV=0\n",
    "    else:\n",
    "        IV=sellDF.impliedVolatility.iloc[0]\n",
    "    outputArr=[width,premium,IV]\n",
    "    return outputArr\n",
    "    #print(optPuts.columns)\n",
    "    #print (width,premium,IV)\n",
    "\n",
    "\n"
   ]
  },
  {
   "cell_type": "code",
   "execution_count": 10,
   "metadata": {},
   "outputs": [],
   "source": [
    "def stok_data_pull():\n",
    "        dfOutput=pd.DataFrame()\n",
    "\n",
    "        for t in tickers:\n",
    "            df = yf.download(t.replace('.', '-').replace('^', '-'), \n",
    "                                  start=start, \n",
    "                                  end=end,\n",
    "                                  prepost=True,\n",
    "                                  progress=False)\n",
    "\n",
    "            df['Stock']=t\n",
    "            dfTemp=df.reset_index()\n",
    "            last_price=dfTemp[dfTemp['Date']==dfTemp['Date'].max()].Close.iloc[0]\n",
    "            try:\n",
    "                putSpread=getPutSpread(last_price,t)\n",
    "            except:\n",
    "                putSpread=[0,0,0]\n",
    "            df['putWidth']=putSpread[0]\n",
    "            df['putPremium']=putSpread[1]\n",
    "            df['putIV']=putSpread[2]\n",
    "            try:\n",
    "                dfOutput=pd.concat([dfOutput, df])\n",
    "            except:\n",
    "                print('error '+t)\n",
    "\n",
    "        dfOutput.drop_duplicates()\n",
    "        dfOutput['dt']=''\n",
    "        dfOutput['dt'].iloc[0] = datetime.now().strftime(\"%Y-%m-%d %H:%M:%S\")\n",
    "        dfOutput.to_csv('static/data.csv')\n",
    "        return \"done\""
   ]
  },
  {
   "cell_type": "code",
   "execution_count": 11,
   "metadata": {},
   "outputs": [
    {
     "name": "stderr",
     "output_type": "stream",
     "text": [
      "c:\\program files (x86)\\python37-32\\lib\\site-packages\\pandas\\core\\indexing.py:671: SettingWithCopyWarning: \n",
      "A value is trying to be set on a copy of a slice from a DataFrame\n",
      "\n",
      "See the caveats in the documentation: https://pandas.pydata.org/pandas-docs/stable/user_guide/indexing.html#returning-a-view-versus-a-copy\n",
      "  self._setitem_with_indexer(indexer, value)\n"
     ]
    },
    {
     "data": {
      "text/plain": [
       "'done'"
      ]
     },
     "execution_count": 11,
     "metadata": {},
     "output_type": "execute_result"
    }
   ],
   "source": [
    "#one time\n",
    "\n",
    "#stok_data_pull()"
   ]
  },
  {
   "cell_type": "code",
   "execution_count": 24,
   "metadata": {},
   "outputs": [],
   "source": [
    "def get_stock_data():\n",
    "    threading.Timer(300.0, get_stock_data).start() # called every 5 minute\n",
    "    try:\n",
    "        stok_data_pull()\n",
    "    except:\n",
    "        pass\n",
    "\n",
    "get_stock_data()"
   ]
  },
  {
   "cell_type": "code",
   "execution_count": null,
   "metadata": {},
   "outputs": [],
   "source": []
  }
 ],
 "metadata": {
  "kernelspec": {
   "display_name": "Python 3",
   "language": "python",
   "name": "python3"
  },
  "language_info": {
   "codemirror_mode": {
    "name": "ipython",
    "version": 3
   },
   "file_extension": ".py",
   "mimetype": "text/x-python",
   "name": "python",
   "nbconvert_exporter": "python",
   "pygments_lexer": "ipython3",
   "version": "3.7.7"
  }
 },
 "nbformat": 4,
 "nbformat_minor": 4
}
