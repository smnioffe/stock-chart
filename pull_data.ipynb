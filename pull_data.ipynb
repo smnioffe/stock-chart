{
 "cells": [
  {
   "cell_type": "code",
   "execution_count": 1,
   "metadata": {},
   "outputs": [],
   "source": [
    "import yfinance as yf\n",
    "from pandas_datareader import data as pdr\n",
    "from datetime import date, timedelta, datetime\n",
    "import pandas as pd\n",
    "import threading\n",
    "import bisect"
   ]
  },
  {
   "cell_type": "code",
   "execution_count": 2,
   "metadata": {},
   "outputs": [
    {
     "output_type": "stream",
     "name": "stdout",
     "text": [
      "2020-08-21 2020-11-20\n"
     ]
    }
   ],
   "source": [
    "today = date.today()\n",
    "day_delta=90\n",
    "\n",
    "#today = today - timedelta(day_delta)\n",
    "\n",
    "start = today - timedelta(day_delta)\n",
    "start= start.strftime(\"%Y-%m-%d\")\n",
    "\n",
    "end = today + timedelta(1)\n",
    "end = end.strftime(\"%Y-%m-%d\")\n",
    "print(start,end)"
   ]
  },
  {
   "cell_type": "code",
   "execution_count": 3,
   "metadata": {},
   "outputs": [],
   "source": [
    "    ticker='SE'\n",
    "    today = datetime.today()\n",
    "    days45 = today + timedelta(45)\n",
    "\n",
    "    optTicker = yf.Ticker(ticker)\n",
    "    last_price=optTicker.history().tail(1)['Close'].iloc[0]\n",
    "\n",
    "    date_list=optTicker.options\n",
    "    date_df = pd.to_datetime(date_list)\n",
    "    date_diffs = abs(days45 - date_df)\n",
    "    closest_date = date_list[date_diffs.argmin()]\n",
    "\n",
    "\n",
    "    opt = optTicker.option_chain(closest_date)\n",
    "\n",
    "    optCalls=opt[0]\n",
    "    optPuts=opt[1]\n",
    "\n",
    "    strikes=optPuts['strike'].tolist()\n",
    "    strikes.sort()\n",
    "    \n",
    "    index = bisect.bisect(strikes, last_price)\n",
    "    sellPut=strikes[index-1]\n",
    "    if sellPut-5 in strikes:\n",
    "        buyPut=sellPut-5\n",
    "    else:\n",
    "        index = bisect.bisect(strikes, sellPut-1.5)\n",
    "        buyPut=strikes[index-1]\n",
    "\n",
    "    sellDF=optPuts[optPuts['strike']==sellPut]\n",
    "    buyDF=optPuts[optPuts['strike']==buyPut]\n",
    "\n",
    "    width=sellDF.strike.iloc[0]-buyDF.strike.iloc[0]\n",
    "    premium=sellDF.bid.iloc[0]-buyDF.ask.iloc[0]\n",
    "    if premium<0:\n",
    "        premium=(sellDF.bid.iloc[0]+sellDF.ask.iloc[0])/2-(buyDF.bid.iloc[0]+buyDF.ask.iloc[0])/2\n",
    "    if premium>width:\n",
    "        premium=0\n",
    "        IV=0\n",
    "    else:\n",
    "        IV=sellDF.impliedVolatility.iloc[0]\n",
    "#     index = bisect.bisect(strikes, last_price)\n",
    "#     sellPut=strikes[index-1]\n",
    "#     if sellPut-5 in strikes:\n",
    "#         buyPut=sellPut-5\n",
    "#     else:\n",
    "#         index = bisect.bisect(strikes, sellPut-1.5)\n",
    "#         buyPut=strikes[index-1]\n",
    "\n",
    "#     sellDF=optPuts[optPuts['strike']==sellPut]\n",
    "#     buyDF=optPuts[optPuts['strike']==buyPut]\n",
    "\n",
    "#     width=sellDF.strike.iloc[0]-buyDF.strike.iloc[0]\n",
    "#     premium=sellDF.bid.iloc[0]-buyDF.ask.iloc[0]\n",
    "#     IV=sellDF.impliedVolatility.iloc[0]\n",
    "    #print(sellPut,buyPut)\n",
    "    #optPuts.head()\n",
    "    #print([width,premium,IV])\n",
    "    #optPuts[(optPuts['strike'] ==67.5) | (optPuts['strike']==62.5) ].head()\n",
    "    #optPuts.head()"
   ]
  },
  {
   "cell_type": "code",
   "execution_count": 4,
   "metadata": {},
   "outputs": [
    {
     "output_type": "execute_result",
     "data": {
      "text/plain": [
       "              Open    High     Low   Close    Volume  Dividends  Stock Splits\n",
       "Date                                                                         \n",
       "2020-10-19  219.84  221.72  213.16  213.66  27625800       0.00             0\n",
       "2020-10-20  215.24  216.80  212.53  214.09  22753500       0.00             0\n",
       "2020-10-21  212.56  216.35  212.56  214.24  22724900       0.00             0\n",
       "2020-10-22  213.37  215.50  211.15  214.33  22351500       0.00             0\n",
       "2020-10-23  214.47  215.72  212.60  215.67  18879600       0.00             0\n",
       "2020-10-26  213.29  215.78  207.56  209.53  37111600       0.00             0\n",
       "2020-10-27  211.04  214.11  209.78  212.69  36700300       0.00             0\n",
       "2020-10-28  207.13  208.29  201.57  202.15  51195600       0.00             0\n",
       "2020-10-29  203.54  206.82  202.84  204.19  31432600       0.00             0\n",
       "2020-10-30  202.97  203.76  199.10  201.94  36953700       0.00             0\n",
       "2020-11-02  203.76  204.74  199.60  201.80  30842200       0.00             0\n",
       "2020-11-03  203.36  207.58  202.59  205.89  27512000       0.00             0\n",
       "2020-11-04  213.46  217.75  211.87  215.82  42311800       0.00             0\n",
       "2020-11-05  221.46  223.53  220.57  222.71  36080100       0.00             0\n",
       "2020-11-06  221.68  223.77  217.46  223.14  25231900       0.00             0\n",
       "2020-11-09  223.85  227.52  217.31  217.82  44395000       0.00             0\n",
       "2020-11-10  213.94  215.93  209.17  210.46  44045100       0.00             0\n",
       "2020-11-11  211.84  217.47  211.65  215.98  29440800       0.00             0\n",
       "2020-11-12  216.64  218.54  213.90  214.88  21593900       0.00             0\n",
       "2020-11-13  215.80  216.85  213.60  215.94  18621100       0.00             0\n",
       "2020-11-16  214.31  217.17  213.96  216.66  24953300       0.00             0\n",
       "2020-11-17  215.54  217.11  213.52  213.90  24154100       0.00             0\n",
       "2020-11-18  213.65  215.17  210.93  211.08  28340900       0.56             0"
      ],
      "text/html": "<div>\n<style scoped>\n    .dataframe tbody tr th:only-of-type {\n        vertical-align: middle;\n    }\n\n    .dataframe tbody tr th {\n        vertical-align: top;\n    }\n\n    .dataframe thead th {\n        text-align: right;\n    }\n</style>\n<table border=\"1\" class=\"dataframe\">\n  <thead>\n    <tr style=\"text-align: right;\">\n      <th></th>\n      <th>Open</th>\n      <th>High</th>\n      <th>Low</th>\n      <th>Close</th>\n      <th>Volume</th>\n      <th>Dividends</th>\n      <th>Stock Splits</th>\n    </tr>\n    <tr>\n      <th>Date</th>\n      <th></th>\n      <th></th>\n      <th></th>\n      <th></th>\n      <th></th>\n      <th></th>\n      <th></th>\n    </tr>\n  </thead>\n  <tbody>\n    <tr>\n      <th>2020-10-19</th>\n      <td>219.84</td>\n      <td>221.72</td>\n      <td>213.16</td>\n      <td>213.66</td>\n      <td>27625800</td>\n      <td>0.00</td>\n      <td>0</td>\n    </tr>\n    <tr>\n      <th>2020-10-20</th>\n      <td>215.24</td>\n      <td>216.80</td>\n      <td>212.53</td>\n      <td>214.09</td>\n      <td>22753500</td>\n      <td>0.00</td>\n      <td>0</td>\n    </tr>\n    <tr>\n      <th>2020-10-21</th>\n      <td>212.56</td>\n      <td>216.35</td>\n      <td>212.56</td>\n      <td>214.24</td>\n      <td>22724900</td>\n      <td>0.00</td>\n      <td>0</td>\n    </tr>\n    <tr>\n      <th>2020-10-22</th>\n      <td>213.37</td>\n      <td>215.50</td>\n      <td>211.15</td>\n      <td>214.33</td>\n      <td>22351500</td>\n      <td>0.00</td>\n      <td>0</td>\n    </tr>\n    <tr>\n      <th>2020-10-23</th>\n      <td>214.47</td>\n      <td>215.72</td>\n      <td>212.60</td>\n      <td>215.67</td>\n      <td>18879600</td>\n      <td>0.00</td>\n      <td>0</td>\n    </tr>\n    <tr>\n      <th>2020-10-26</th>\n      <td>213.29</td>\n      <td>215.78</td>\n      <td>207.56</td>\n      <td>209.53</td>\n      <td>37111600</td>\n      <td>0.00</td>\n      <td>0</td>\n    </tr>\n    <tr>\n      <th>2020-10-27</th>\n      <td>211.04</td>\n      <td>214.11</td>\n      <td>209.78</td>\n      <td>212.69</td>\n      <td>36700300</td>\n      <td>0.00</td>\n      <td>0</td>\n    </tr>\n    <tr>\n      <th>2020-10-28</th>\n      <td>207.13</td>\n      <td>208.29</td>\n      <td>201.57</td>\n      <td>202.15</td>\n      <td>51195600</td>\n      <td>0.00</td>\n      <td>0</td>\n    </tr>\n    <tr>\n      <th>2020-10-29</th>\n      <td>203.54</td>\n      <td>206.82</td>\n      <td>202.84</td>\n      <td>204.19</td>\n      <td>31432600</td>\n      <td>0.00</td>\n      <td>0</td>\n    </tr>\n    <tr>\n      <th>2020-10-30</th>\n      <td>202.97</td>\n      <td>203.76</td>\n      <td>199.10</td>\n      <td>201.94</td>\n      <td>36953700</td>\n      <td>0.00</td>\n      <td>0</td>\n    </tr>\n    <tr>\n      <th>2020-11-02</th>\n      <td>203.76</td>\n      <td>204.74</td>\n      <td>199.60</td>\n      <td>201.80</td>\n      <td>30842200</td>\n      <td>0.00</td>\n      <td>0</td>\n    </tr>\n    <tr>\n      <th>2020-11-03</th>\n      <td>203.36</td>\n      <td>207.58</td>\n      <td>202.59</td>\n      <td>205.89</td>\n      <td>27512000</td>\n      <td>0.00</td>\n      <td>0</td>\n    </tr>\n    <tr>\n      <th>2020-11-04</th>\n      <td>213.46</td>\n      <td>217.75</td>\n      <td>211.87</td>\n      <td>215.82</td>\n      <td>42311800</td>\n      <td>0.00</td>\n      <td>0</td>\n    </tr>\n    <tr>\n      <th>2020-11-05</th>\n      <td>221.46</td>\n      <td>223.53</td>\n      <td>220.57</td>\n      <td>222.71</td>\n      <td>36080100</td>\n      <td>0.00</td>\n      <td>0</td>\n    </tr>\n    <tr>\n      <th>2020-11-06</th>\n      <td>221.68</td>\n      <td>223.77</td>\n      <td>217.46</td>\n      <td>223.14</td>\n      <td>25231900</td>\n      <td>0.00</td>\n      <td>0</td>\n    </tr>\n    <tr>\n      <th>2020-11-09</th>\n      <td>223.85</td>\n      <td>227.52</td>\n      <td>217.31</td>\n      <td>217.82</td>\n      <td>44395000</td>\n      <td>0.00</td>\n      <td>0</td>\n    </tr>\n    <tr>\n      <th>2020-11-10</th>\n      <td>213.94</td>\n      <td>215.93</td>\n      <td>209.17</td>\n      <td>210.46</td>\n      <td>44045100</td>\n      <td>0.00</td>\n      <td>0</td>\n    </tr>\n    <tr>\n      <th>2020-11-11</th>\n      <td>211.84</td>\n      <td>217.47</td>\n      <td>211.65</td>\n      <td>215.98</td>\n      <td>29440800</td>\n      <td>0.00</td>\n      <td>0</td>\n    </tr>\n    <tr>\n      <th>2020-11-12</th>\n      <td>216.64</td>\n      <td>218.54</td>\n      <td>213.90</td>\n      <td>214.88</td>\n      <td>21593900</td>\n      <td>0.00</td>\n      <td>0</td>\n    </tr>\n    <tr>\n      <th>2020-11-13</th>\n      <td>215.80</td>\n      <td>216.85</td>\n      <td>213.60</td>\n      <td>215.94</td>\n      <td>18621100</td>\n      <td>0.00</td>\n      <td>0</td>\n    </tr>\n    <tr>\n      <th>2020-11-16</th>\n      <td>214.31</td>\n      <td>217.17</td>\n      <td>213.96</td>\n      <td>216.66</td>\n      <td>24953300</td>\n      <td>0.00</td>\n      <td>0</td>\n    </tr>\n    <tr>\n      <th>2020-11-17</th>\n      <td>215.54</td>\n      <td>217.11</td>\n      <td>213.52</td>\n      <td>213.90</td>\n      <td>24154100</td>\n      <td>0.00</td>\n      <td>0</td>\n    </tr>\n    <tr>\n      <th>2020-11-18</th>\n      <td>213.65</td>\n      <td>215.17</td>\n      <td>210.93</td>\n      <td>211.08</td>\n      <td>28340900</td>\n      <td>0.56</td>\n      <td>0</td>\n    </tr>\n  </tbody>\n</table>\n</div>"
     },
     "metadata": {},
     "execution_count": 4
    }
   ],
   "source": [
    "ticker='MSFT'\n",
    "ahTicker = yf.Ticker(ticker)\n",
    "ahTicker.history()"
   ]
  },
  {
   "cell_type": "code",
   "execution_count": 5,
   "metadata": {},
   "outputs": [],
   "source": [
    "def getPutSpread(last_price,ticker):\n",
    "    today = datetime.today()\n",
    "    days45 = today + timedelta(45)\n",
    "\n",
    "    optTicker = yf.Ticker(ticker)\n",
    "    #last_price=optTicker.history().tail(1)['Close'].iloc[0]\n",
    "\n",
    "    date_list=optTicker.options\n",
    "    date_df = pd.to_datetime(date_list)\n",
    "    date_diffs = abs(days45 - date_df)\n",
    "    closest_date = date_list[date_diffs.argmin()]\n",
    "\n",
    "\n",
    "    opt = optTicker.option_chain(closest_date)\n",
    "\n",
    "    optCalls=opt[0]\n",
    "    optPuts=opt[1]\n",
    "\n",
    "    strikes=optPuts['strike'].tolist()\n",
    "    strikes.sort()\n",
    "\n",
    "    index = bisect.bisect(strikes, last_price)\n",
    "    sellPut=strikes[index-1]\n",
    "    if sellPut-5 in strikes:\n",
    "        buyPut=sellPut-5\n",
    "    else:\n",
    "        index = bisect.bisect(strikes, sellPut-1.5)\n",
    "        buyPut=strikes[index-1]\n",
    "\n",
    "    sellDF=optPuts[optPuts['strike']==sellPut]\n",
    "    buyDF=optPuts[optPuts['strike']==buyPut]\n",
    "\n",
    "    width=sellDF.strike.iloc[0]-buyDF.strike.iloc[0]\n",
    "    premium=sellDF.bid.iloc[0]-buyDF.ask.iloc[0]\n",
    "    if premium<0:\n",
    "        premium=(sellDF.bid.iloc[0]+sellDF.ask.iloc[0])/2-(buyDF.bid.iloc[0]+buyDF.ask.iloc[0])/2\n",
    "    if premium>width:\n",
    "        premium=0\n",
    "        IV=0\n",
    "    else:\n",
    "        IV=sellDF.impliedVolatility.iloc[0]\n",
    "    outputArr=[width,premium,IV]\n",
    "    return outputArr\n",
    "    #print(optPuts.columns)\n",
    "    #print (width,premium,IV)\n",
    "\n",
    "\n"
   ]
  },
  {
   "cell_type": "code",
   "execution_count": 6,
   "metadata": {},
   "outputs": [],
   "source": [
    "def stok_data_pull():\n",
    "        dfOutput=pd.DataFrame()\n",
    "\n",
    "        tickers=['FUTU','GDRX','BKNG','EXPE','MA','ADBE','TSLA','LYFT','PANW','ESTC','SPG','FB','JMIA','TWLO','LULU','LMND','SAGE','ETSY','LRCX','NET','WORK','NFLX','MTB','DKNG','EQIX','EB','PSTH','ARKK','IPOB','TJX','QDEL','DOW','DOCU','CVS','PENN','MGM','MSFT','AMZN','GOOGL','WBA','GDDY','F','BA','GPS','VIAC','MDP','HUYA','ICLN','MJ','PTON','WING','OTRK','FSLY','MELI','SE','CSCO','NNOX','ASAN','AVGO','QCOM','WFC','ISRG','DPZ','PZZA','ROKU','COF','TDOC','CPRI','GRWG','CRM','GLD','SLV','RKT','MDB','TEAM','RDFN','UPS','SQ','LOGI','AMWL','FVRR','TLRY','CRWD','TTD','DDOG','PLAY','U','AMT','MTCH','SDGR','RHP','JPM','SPCE','TTWO','DXCM','VXX','TWOU','RDS-A','BABA']\n",
    "\n",
    "        for t in tickers:\n",
    "            df = yf.download(t.replace('.', '-').replace('^', '-'), \n",
    "                                  start=start, \n",
    "                                  end=end,\n",
    "                                  prepost=True,\n",
    "                                  progress=False)\n",
    "\n",
    "            df['Stock']=t\n",
    "            dfTemp=df.reset_index()\n",
    "            last_price=dfTemp[dfTemp['Date']==dfTemp['Date'].max()].Close.iloc[0]\n",
    "            try:\n",
    "                putSpread=getPutSpread(last_price,t)\n",
    "            except:\n",
    "                putSpread=[0,0,0]\n",
    "            df['putWidth']=putSpread[0]\n",
    "            df['putPremium']=putSpread[1]\n",
    "            df['putIV']=putSpread[2]\n",
    "            try:\n",
    "                dfOutput=pd.concat([dfOutput, df])\n",
    "            except:\n",
    "                print('error '+t)\n",
    "\n",
    "        dfOutput.drop_duplicates()\n",
    "        dfOutput['dt']=''\n",
    "        dfOutput['dt'].iloc[0] = datetime.now().strftime(\"%Y-%m-%d %H:%M:%S\")\n",
    "        dfOutput.to_csv('data.csv')\n",
    "        return \"done\""
   ]
  },
  {
   "cell_type": "code",
   "execution_count": 7,
   "metadata": {},
   "outputs": [
    {
     "output_type": "execute_result",
     "data": {
      "text/plain": [
       "'done'"
      ]
     },
     "metadata": {},
     "execution_count": 7
    }
   ],
   "source": [
    "#one time\n",
    "\n",
    "stok_data_pull()"
   ]
  },
  {
   "cell_type": "code",
   "execution_count": 8,
   "metadata": {},
   "outputs": [],
   "source": [
    "def get_stock_data():\n",
    "    threading.Timer(300.0, get_stock_data).start() # called every 5 minute\n",
    "    try:\n",
    "        stok_data_pull()\n",
    "    except:\n",
    "        pass\n",
    "\n",
    "get_stock_data()"
   ]
  },
  {
   "cell_type": "code",
   "execution_count": null,
   "metadata": {},
   "outputs": [],
   "source": []
  }
 ],
 "metadata": {
  "kernelspec": {
   "name": "python3",
   "display_name": "Python 3.7.7 32-bit",
   "metadata": {
    "interpreter": {
     "hash": "8e61c9422603e3d3820d3aeca1b8eefe471d1a1023a28a3903412dc32402bf43"
    }
   }
  },
  "language_info": {
   "codemirror_mode": {
    "name": "ipython",
    "version": 3
   },
   "file_extension": ".py",
   "mimetype": "text/x-python",
   "name": "python",
   "nbconvert_exporter": "python",
   "pygments_lexer": "ipython3",
   "version": "3.7.7-final"
  }
 },
 "nbformat": 4,
 "nbformat_minor": 4
}