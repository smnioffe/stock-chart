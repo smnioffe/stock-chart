{
 "cells": [
  {
   "cell_type": "code",
   "execution_count": 1,
   "metadata": {},
   "outputs": [],
   "source": [
    "import yfinance as yf\n",
    "from pandas_datareader import data as pdr\n",
    "from datetime import date, timedelta, datetime\n",
    "import pandas as pd\n",
    "import threading\n",
    "import bisect"
   ]
  },
  {
   "cell_type": "code",
   "execution_count": 2,
   "metadata": {},
   "outputs": [
    {
     "output_type": "stream",
     "name": "stdout",
     "text": [
      "2020-08-13 2020-11-12\n"
     ]
    }
   ],
   "source": [
    "today = date.today()\n",
    "day_delta=90\n",
    "\n",
    "#today = today - timedelta(day_delta)\n",
    "\n",
    "start = today - timedelta(day_delta)\n",
    "start= start.strftime(\"%Y-%m-%d\")\n",
    "\n",
    "end = today + timedelta(1)\n",
    "end = end.strftime(\"%Y-%m-%d\")\n",
    "print(start,end)"
   ]
  },
  {
   "cell_type": "code",
   "execution_count": 3,
   "metadata": {},
   "outputs": [],
   "source": [
    "    ticker='SE'\n",
    "    today = datetime.today()\n",
    "    days45 = today + timedelta(45)\n",
    "\n",
    "    optTicker = yf.Ticker(ticker)\n",
    "    last_price=optTicker.history().tail(1)['Close'].iloc[0]\n",
    "\n",
    "    date_list=optTicker.options\n",
    "    date_df = pd.to_datetime(date_list)\n",
    "    date_diffs = abs(days45 - date_df)\n",
    "    closest_date = date_list[date_diffs.argmin()]\n",
    "\n",
    "\n",
    "    opt = optTicker.option_chain(closest_date)\n",
    "\n",
    "    optCalls=opt[0]\n",
    "    optPuts=opt[1]\n",
    "\n",
    "    strikes=optPuts['strike'].tolist()\n",
    "    strikes.sort()\n",
    "    \n",
    "    index = bisect.bisect(strikes, last_price)\n",
    "    sellPut=strikes[index-1]\n",
    "    if sellPut-5 in strikes:\n",
    "        buyPut=sellPut-5\n",
    "    else:\n",
    "        index = bisect.bisect(strikes, sellPut-1.5)\n",
    "        buyPut=strikes[index-1]\n",
    "\n",
    "    sellDF=optPuts[optPuts['strike']==sellPut]\n",
    "    buyDF=optPuts[optPuts['strike']==buyPut]\n",
    "\n",
    "    width=sellDF.strike.iloc[0]-buyDF.strike.iloc[0]\n",
    "    premium=sellDF.bid.iloc[0]-buyDF.ask.iloc[0]\n",
    "    if premium<0:\n",
    "        premium=(sellDF.bid.iloc[0]+sellDF.ask.iloc[0])/2-(buyDF.bid.iloc[0]+buyDF.ask.iloc[0])/2\n",
    "    if premium>width:\n",
    "        premium=0\n",
    "        IV=0\n",
    "    else:\n",
    "        IV=sellDF.impliedVolatility.iloc[0]\n",
    "#     index = bisect.bisect(strikes, last_price)\n",
    "#     sellPut=strikes[index-1]\n",
    "#     if sellPut-5 in strikes:\n",
    "#         buyPut=sellPut-5\n",
    "#     else:\n",
    "#         index = bisect.bisect(strikes, sellPut-1.5)\n",
    "#         buyPut=strikes[index-1]\n",
    "\n",
    "#     sellDF=optPuts[optPuts['strike']==sellPut]\n",
    "#     buyDF=optPuts[optPuts['strike']==buyPut]\n",
    "\n",
    "#     width=sellDF.strike.iloc[0]-buyDF.strike.iloc[0]\n",
    "#     premium=sellDF.bid.iloc[0]-buyDF.ask.iloc[0]\n",
    "#     IV=sellDF.impliedVolatility.iloc[0]\n",
    "    #print(sellPut,buyPut)\n",
    "    #optPuts.head()\n",
    "    #print([width,premium,IV])\n",
    "    #optPuts[(optPuts['strike'] ==67.5) | (optPuts['strike']==62.5) ].head()\n",
    "    #optPuts.head()"
   ]
  },
  {
   "cell_type": "code",
   "execution_count": 4,
   "metadata": {},
   "outputs": [
    {
     "output_type": "execute_result",
     "data": {
      "text/plain": [
       "              Open    High     Low   Close    Volume  Dividends  Stock Splits\n",
       "Date                                                                         \n",
       "2020-10-12  218.79  223.86  216.81  221.40  40461400          0             0\n",
       "2020-10-13  222.72  225.21  220.43  222.86  28950800          0             0\n",
       "2020-10-14  223.00  224.22  219.13  220.86  23451700          0             0\n",
       "2020-10-15  217.10  220.36  216.01  219.66  22733100          0             0\n",
       "2020-10-16  220.15  222.29  219.32  219.66  26057900          0             0\n",
       "2020-10-19  220.42  222.30  213.72  214.22  27625800          0             0\n",
       "2020-10-20  215.80  217.37  213.09  214.65  22753500          0             0\n",
       "2020-10-21  213.12  216.92  213.12  214.80  22724900          0             0\n",
       "2020-10-22  213.93  216.06  211.70  214.89  22351500          0             0\n",
       "2020-10-23  215.03  216.28  213.16  216.23  18879600          0             0\n",
       "2020-10-26  213.85  216.34  208.10  210.08  37111600          0             0\n",
       "2020-10-27  211.59  214.67  210.33  213.25  36700300          0             0\n",
       "2020-10-28  207.67  208.84  202.10  202.68  51195600          0             0\n",
       "2020-10-29  204.07  207.36  203.37  204.72  31432600          0             0\n",
       "2020-10-30  203.50  204.29  199.62  202.47  36953700          0             0\n",
       "2020-11-02  204.29  205.28  200.12  202.33  30842200          0             0\n",
       "2020-11-03  203.89  208.12  203.12  206.43  27512000          0             0\n",
       "2020-11-04  214.02  218.32  212.42  216.39  42311800          0             0\n",
       "2020-11-05  222.04  224.12  221.15  223.29  36080100          0             0\n",
       "2020-11-06  222.26  224.36  218.03  223.72  25231900          0             0\n",
       "2020-11-09  224.44  228.12  217.88  218.39  44395000          0             0\n",
       "2020-11-10  214.50  216.50  209.72  211.01  43987600          0             0"
      ],
      "text/html": "<div>\n<style scoped>\n    .dataframe tbody tr th:only-of-type {\n        vertical-align: middle;\n    }\n\n    .dataframe tbody tr th {\n        vertical-align: top;\n    }\n\n    .dataframe thead th {\n        text-align: right;\n    }\n</style>\n<table border=\"1\" class=\"dataframe\">\n  <thead>\n    <tr style=\"text-align: right;\">\n      <th></th>\n      <th>Open</th>\n      <th>High</th>\n      <th>Low</th>\n      <th>Close</th>\n      <th>Volume</th>\n      <th>Dividends</th>\n      <th>Stock Splits</th>\n    </tr>\n    <tr>\n      <th>Date</th>\n      <th></th>\n      <th></th>\n      <th></th>\n      <th></th>\n      <th></th>\n      <th></th>\n      <th></th>\n    </tr>\n  </thead>\n  <tbody>\n    <tr>\n      <th>2020-10-12</th>\n      <td>218.79</td>\n      <td>223.86</td>\n      <td>216.81</td>\n      <td>221.40</td>\n      <td>40461400</td>\n      <td>0</td>\n      <td>0</td>\n    </tr>\n    <tr>\n      <th>2020-10-13</th>\n      <td>222.72</td>\n      <td>225.21</td>\n      <td>220.43</td>\n      <td>222.86</td>\n      <td>28950800</td>\n      <td>0</td>\n      <td>0</td>\n    </tr>\n    <tr>\n      <th>2020-10-14</th>\n      <td>223.00</td>\n      <td>224.22</td>\n      <td>219.13</td>\n      <td>220.86</td>\n      <td>23451700</td>\n      <td>0</td>\n      <td>0</td>\n    </tr>\n    <tr>\n      <th>2020-10-15</th>\n      <td>217.10</td>\n      <td>220.36</td>\n      <td>216.01</td>\n      <td>219.66</td>\n      <td>22733100</td>\n      <td>0</td>\n      <td>0</td>\n    </tr>\n    <tr>\n      <th>2020-10-16</th>\n      <td>220.15</td>\n      <td>222.29</td>\n      <td>219.32</td>\n      <td>219.66</td>\n      <td>26057900</td>\n      <td>0</td>\n      <td>0</td>\n    </tr>\n    <tr>\n      <th>2020-10-19</th>\n      <td>220.42</td>\n      <td>222.30</td>\n      <td>213.72</td>\n      <td>214.22</td>\n      <td>27625800</td>\n      <td>0</td>\n      <td>0</td>\n    </tr>\n    <tr>\n      <th>2020-10-20</th>\n      <td>215.80</td>\n      <td>217.37</td>\n      <td>213.09</td>\n      <td>214.65</td>\n      <td>22753500</td>\n      <td>0</td>\n      <td>0</td>\n    </tr>\n    <tr>\n      <th>2020-10-21</th>\n      <td>213.12</td>\n      <td>216.92</td>\n      <td>213.12</td>\n      <td>214.80</td>\n      <td>22724900</td>\n      <td>0</td>\n      <td>0</td>\n    </tr>\n    <tr>\n      <th>2020-10-22</th>\n      <td>213.93</td>\n      <td>216.06</td>\n      <td>211.70</td>\n      <td>214.89</td>\n      <td>22351500</td>\n      <td>0</td>\n      <td>0</td>\n    </tr>\n    <tr>\n      <th>2020-10-23</th>\n      <td>215.03</td>\n      <td>216.28</td>\n      <td>213.16</td>\n      <td>216.23</td>\n      <td>18879600</td>\n      <td>0</td>\n      <td>0</td>\n    </tr>\n    <tr>\n      <th>2020-10-26</th>\n      <td>213.85</td>\n      <td>216.34</td>\n      <td>208.10</td>\n      <td>210.08</td>\n      <td>37111600</td>\n      <td>0</td>\n      <td>0</td>\n    </tr>\n    <tr>\n      <th>2020-10-27</th>\n      <td>211.59</td>\n      <td>214.67</td>\n      <td>210.33</td>\n      <td>213.25</td>\n      <td>36700300</td>\n      <td>0</td>\n      <td>0</td>\n    </tr>\n    <tr>\n      <th>2020-10-28</th>\n      <td>207.67</td>\n      <td>208.84</td>\n      <td>202.10</td>\n      <td>202.68</td>\n      <td>51195600</td>\n      <td>0</td>\n      <td>0</td>\n    </tr>\n    <tr>\n      <th>2020-10-29</th>\n      <td>204.07</td>\n      <td>207.36</td>\n      <td>203.37</td>\n      <td>204.72</td>\n      <td>31432600</td>\n      <td>0</td>\n      <td>0</td>\n    </tr>\n    <tr>\n      <th>2020-10-30</th>\n      <td>203.50</td>\n      <td>204.29</td>\n      <td>199.62</td>\n      <td>202.47</td>\n      <td>36953700</td>\n      <td>0</td>\n      <td>0</td>\n    </tr>\n    <tr>\n      <th>2020-11-02</th>\n      <td>204.29</td>\n      <td>205.28</td>\n      <td>200.12</td>\n      <td>202.33</td>\n      <td>30842200</td>\n      <td>0</td>\n      <td>0</td>\n    </tr>\n    <tr>\n      <th>2020-11-03</th>\n      <td>203.89</td>\n      <td>208.12</td>\n      <td>203.12</td>\n      <td>206.43</td>\n      <td>27512000</td>\n      <td>0</td>\n      <td>0</td>\n    </tr>\n    <tr>\n      <th>2020-11-04</th>\n      <td>214.02</td>\n      <td>218.32</td>\n      <td>212.42</td>\n      <td>216.39</td>\n      <td>42311800</td>\n      <td>0</td>\n      <td>0</td>\n    </tr>\n    <tr>\n      <th>2020-11-05</th>\n      <td>222.04</td>\n      <td>224.12</td>\n      <td>221.15</td>\n      <td>223.29</td>\n      <td>36080100</td>\n      <td>0</td>\n      <td>0</td>\n    </tr>\n    <tr>\n      <th>2020-11-06</th>\n      <td>222.26</td>\n      <td>224.36</td>\n      <td>218.03</td>\n      <td>223.72</td>\n      <td>25231900</td>\n      <td>0</td>\n      <td>0</td>\n    </tr>\n    <tr>\n      <th>2020-11-09</th>\n      <td>224.44</td>\n      <td>228.12</td>\n      <td>217.88</td>\n      <td>218.39</td>\n      <td>44395000</td>\n      <td>0</td>\n      <td>0</td>\n    </tr>\n    <tr>\n      <th>2020-11-10</th>\n      <td>214.50</td>\n      <td>216.50</td>\n      <td>209.72</td>\n      <td>211.01</td>\n      <td>43987600</td>\n      <td>0</td>\n      <td>0</td>\n    </tr>\n  </tbody>\n</table>\n</div>"
     },
     "metadata": {},
     "execution_count": 4
    }
   ],
   "source": [
    "ticker='MSFT'\n",
    "ahTicker = yf.Ticker(ticker)\n",
    "ahTicker.history()"
   ]
  },
  {
   "cell_type": "code",
   "execution_count": 5,
   "metadata": {},
   "outputs": [],
   "source": [
    "def getPutSpread(last_price,ticker):\n",
    "    today = datetime.today()\n",
    "    days45 = today + timedelta(45)\n",
    "\n",
    "    optTicker = yf.Ticker(ticker)\n",
    "    #last_price=optTicker.history().tail(1)['Close'].iloc[0]\n",
    "\n",
    "    date_list=optTicker.options\n",
    "    date_df = pd.to_datetime(date_list)\n",
    "    date_diffs = abs(days45 - date_df)\n",
    "    closest_date = date_list[date_diffs.argmin()]\n",
    "\n",
    "\n",
    "    opt = optTicker.option_chain(closest_date)\n",
    "\n",
    "    optCalls=opt[0]\n",
    "    optPuts=opt[1]\n",
    "\n",
    "    strikes=optPuts['strike'].tolist()\n",
    "    strikes.sort()\n",
    "\n",
    "    index = bisect.bisect(strikes, last_price)\n",
    "    sellPut=strikes[index-1]\n",
    "    if sellPut-5 in strikes:\n",
    "        buyPut=sellPut-5\n",
    "    else:\n",
    "        index = bisect.bisect(strikes, sellPut-1.5)\n",
    "        buyPut=strikes[index-1]\n",
    "\n",
    "    sellDF=optPuts[optPuts['strike']==sellPut]\n",
    "    buyDF=optPuts[optPuts['strike']==buyPut]\n",
    "\n",
    "    width=sellDF.strike.iloc[0]-buyDF.strike.iloc[0]\n",
    "    premium=sellDF.bid.iloc[0]-buyDF.ask.iloc[0]\n",
    "    if premium<0:\n",
    "        premium=(sellDF.bid.iloc[0]+sellDF.ask.iloc[0])/2-(buyDF.bid.iloc[0]+buyDF.ask.iloc[0])/2\n",
    "    if premium>width:\n",
    "        premium=0\n",
    "        IV=0\n",
    "    else:\n",
    "        IV=sellDF.impliedVolatility.iloc[0]\n",
    "    outputArr=[width,premium,IV]\n",
    "    return outputArr\n",
    "    #print(optPuts.columns)\n",
    "    #print (width,premium,IV)\n",
    "\n",
    "\n"
   ]
  },
  {
   "cell_type": "code",
   "execution_count": 6,
   "metadata": {},
   "outputs": [],
   "source": [
    "def stok_data_pull():\n",
    "        dfOutput=pd.DataFrame()\n",
    "\n",
    "        tickers=['EXPE','MA','ADBE','TSLA','LYFT','PANW','ESTC','SPG','FB','JMIA','TWLO','LULU','LMND','SAGE','ETSY','LRCX','NET','WORK','NFLX','MTB','DKNG','EQIX','EB','PSTH','ARKK','IPOB','TJX','QDEL','DOW','DOCU','CVS','PENN','MGM','MSFT','AMZN','GOOGL','WBA','GDDY','F','BA','GPS','VIAC','MDP','HUYA','ICLN','MJ','PTON','WING','OTRK','FSLY','MELI','SE','CSCO','NNOX','ASAN','AVGO','QCOM','WFC','ISRG','DPZ','PZZA','ROKU','COF','TDOC','CPRI','GRWG','CRM','GLD','SLV','RKT','MDB','TEAM','RDFN','UPS','SQ','LOGI','AMWL','FVRR','TLRY','CRWD','TTD','DDOG','PLAY','U','AMT','MTCH','SDGR','RHP','JPM','SPCE','TTWO','DXCM','VXX','TWOU','RDS-A','BABA']\n",
    "\n",
    "        for t in tickers:\n",
    "            df = yf.download(t.replace('.', '-').replace('^', '-'), \n",
    "                                  start=start, \n",
    "                                  end=end,\n",
    "                                  prepost=True,\n",
    "                                  progress=False)\n",
    "\n",
    "            df['Stock']=t\n",
    "            dfTemp=df.reset_index()\n",
    "            last_price=dfTemp[dfTemp['Date']==dfTemp['Date'].max()].Close.iloc[0]\n",
    "            try:\n",
    "                putSpread=getPutSpread(last_price,t)\n",
    "            except:\n",
    "                putSpread=[0,0,0]\n",
    "            df['putWidth']=putSpread[0]\n",
    "            df['putPremium']=putSpread[1]\n",
    "            df['putIV']=putSpread[2]\n",
    "            try:\n",
    "                dfOutput=pd.concat([dfOutput, df])\n",
    "            except:\n",
    "                print('error '+t)\n",
    "\n",
    "        dfOutput.drop_duplicates()\n",
    "        dfOutput['dt']=''\n",
    "        dfOutput['dt'].iloc[0] = datetime.now().strftime(\"%Y-%m-%d %H:%M:%S\")\n",
    "        dfOutput.to_csv('data.csv')\n",
    "        return \"done\""
   ]
  },
  {
   "cell_type": "code",
   "execution_count": 7,
   "metadata": {},
   "outputs": [
    {
     "output_type": "execute_result",
     "data": {
      "text/plain": [
       "'done'"
      ]
     },
     "metadata": {},
     "execution_count": 7
    }
   ],
   "source": [
    "#one time\n",
    "\n",
    "stok_data_pull()"
   ]
  },
  {
   "cell_type": "code",
   "execution_count": 8,
   "metadata": {},
   "outputs": [],
   "source": [
    "def get_stock_data():\n",
    "    threading.Timer(300.0, get_stock_data).start() # called every 5 minute\n",
    "    try:\n",
    "        stok_data_pull()\n",
    "    except:\n",
    "        pass\n",
    "\n",
    "get_stock_data()"
   ]
  },
  {
   "cell_type": "code",
   "execution_count": null,
   "metadata": {},
   "outputs": [],
   "source": []
  }
 ],
 "metadata": {
  "kernelspec": {
   "name": "Python 3.7.7 32-bit",
   "display_name": "Python 3.7.7 32-bit",
   "metadata": {
    "interpreter": {
     "hash": "8e61c9422603e3d3820d3aeca1b8eefe471d1a1023a28a3903412dc32402bf43"
    }
   }
  },
  "language_info": {
   "codemirror_mode": {
    "name": "ipython",
    "version": 3
   },
   "file_extension": ".py",
   "mimetype": "text/x-python",
   "name": "python",
   "nbconvert_exporter": "python",
   "pygments_lexer": "ipython3",
   "version": "3.7.7-final"
  }
 },
 "nbformat": 4,
 "nbformat_minor": 4
}